{
 "cells": [
  {
   "cell_type": "markdown",
   "id": "cf2fdd7b986386d3",
   "metadata": {
    "lang": "de",
    "slideshow": {
     "slide_type": "slide"
    },
    "tags": [
     "slide"
    ]
   },
   "source": [
    "\n",
    "<img src=\"data:image/svg+xml;base64,PHN2ZyB4bWxucz0iaHR0cDovL3d3dy53My5vcmcvMjAwMC9zdmciIHdpZHRoPSI2NCIgaGVpZ2h0\n",
    "PSI2NCIgdmlld0JveD0iMCAwIDMyIDMyIj48cGF0aCBkPSJNMTEuNjIyIDI0Ljc0cy0xLjIzLjc0\n",
    "OC44NTUuOTYyYzIuNTEuMzIgMy44NDcuMjY3IDYuNjI1LS4yNjdhMTAuMDIgMTAuMDIgMCAwIDAg\n",
    "MS43NjMuODU1Yy02LjI1IDIuNjcyLTE0LjE2LS4xNi05LjI0NC0xLjU1em0tLjgtMy40NzNzLTEu\n",
    "MzM2IDEuMDE1Ljc0OCAxLjIzYzIuNzI1LjI2NyA0Ljg2Mi4zMiA4LjU1LS40MjdhMy4yNiAzLjI2\n",
    "IDAgMCAwIDEuMjgyLjgwMWMtNy41MzQgMi4yNDQtMTUuOTc2LjIxNC0xMC41OC0xLjYwM3ptMTQu\n",
    "NzQ3IDYuMDlzLjkwOC43NDgtMS4wMTUgMS4zMzZjLTMuNTggMS4wNy0xNS4wMTQgMS4zOS0xOC4y\n",
    "MiAwLTEuMTIyLS40OCAxLjAxNS0xLjE3NSAxLjctMS4yODIuNjk1LS4xNiAxLjA3LS4xNiAxLjA3\n",
    "LS4xNi0xLjIzLS44NTUtOC4xNzUgMS43NjMtMy41MjYgMi41MSAxMi43NyAyLjA4NCAyMy4yOTYt\n",
    "LjkwOCAxOS45ODMtMi40MDR6TTEyLjIgMTcuNjMzcy01LjgyNCAxLjM5LTIuMDg0IDEuODdjMS42\n",
    "MDMuMjE0IDQuNzU1LjE2IDcuNjk0LS4wNTMgMi40MDQtLjIxNCA0LjgxLS42NCA0LjgxLS42NHMt\n",
    "Ljg1NS4zNzQtMS40NDMuNzQ4Yy01LjkzIDEuNTUtMTcuMzEyLjg1NS0xNC4wNTItLjc0OCAyLjc3\n",
    "OC0xLjMzNiA1LjA3Ni0xLjE3NSA1LjA3Ni0xLjE3NXptMTAuNDIgNS44MjRjNS45ODQtMy4xIDMu\n",
    "MjA2LTYuMDkgMS4yODItNS43MTctLjQ4LjEwNy0uNjk1LjIxNC0uNjk1LjIxNHMuMTYtLjMyLjUz\n",
    "NC0uNDI3YzMuNzk0LTEuMzM2IDYuNzg2IDQuMDA3LTEuMjMgNi4wOSAwIDAgLjA1My0uMDUzLjEw\n",
    "Ny0uMTZ6bS05LjgzIDguNDQyYzUuNzcuMzc0IDE0LjU4Ny0uMjE0IDE0LjgtMi45NCAwIDAtLjQy\n",
    "NyAxLjA3LTQuNzU1IDEuODctNC45MTYuOTA4LTExLjAwNy44LTE0LjU4Ny4yMTQgMCAwIC43NDgu\n",
    "NjQgNC41NDIuODU1eiIgZmlsbD0iIzRlNzg5NiIvPjxwYXRoIGQ9Ik0xOC45OTYuMDAxczMuMzEz\n",
    "IDMuMzY2LTMuMTUyIDguNDQyYy01LjE4MyA0LjExNC0xLjE3NSA2LjQ2NSAwIDkuMTM3LTMuMDQ2\n",
    "LTIuNzI1LTUuMjM2LTUuMTMtMy43NC03LjM3M0MxNC4yOTQgNi44OTMgMjAuMzMyIDUuMyAxOC45\n",
    "OTYuMDAxem0tMS43IDE1LjMzNWMxLjU1IDEuNzYzLS40MjcgMy4zNjYtLjQyNyAzLjM2NnMzLjk1\n",
    "NC0yLjAzIDIuMTM3LTQuNTQyYy0xLjY1Ni0yLjQwNC0yLjk0LTMuNTggNC4wMDctNy41ODcgMCAw\n",
    "LTEwLjk1MyAyLjcyNS01LjcxNyA4Ljc2M3oiIGZpbGw9IiNmNTgyMTkiLz48L3N2Zz4=\n",
    "\"\n",
    "     alt=\"Java Logo\" style=\"display:block;margin:auto;width:5%\"/>\n",
    "<br>\n",
    "\n",
    "<div style=\"text-align:center; font-size:200%;\">\n",
    " <b>Clean Code: Funktionen (Teil 2)</b>\n",
    "</div>\n",
    "<br/>\n",
    "<div style=\"text-align:center; font-size:120%;\">Dr. Matthias Hölzl</div>\n",
    "<br/>\n",
    "<div style=\"text-align:center;\">Coding-Akademie München</div>\n",
    "<br/>"
   ]
  },
  {
   "cell_type": "markdown",
   "id": "616b74b69fd65f7b",
   "metadata": {
    "lang": "de",
    "slideshow": {
     "slide_type": "slide"
    },
    "tags": [
     "slide"
    ]
   },
   "source": [
    "\n",
    "## Typ-Tags und Switch-Anweisungen"
   ]
  },
  {
   "cell_type": "code",
   "execution_count": null,
   "id": "22642bc965c89dc0",
   "metadata": {
    "tags": [
     "keep"
    ]
   },
   "outputs": [],
   "source": [
    "public enum EmployeeType {\n",
    "    COMMISSIONED,\n",
    "    HOURLY,\n",
    "    SALARIED\n",
    "}"
   ]
  },
  {
   "cell_type": "code",
   "execution_count": null,
   "id": "4b950396b55d4da5",
   "metadata": {
    "tags": [
     "keep"
    ]
   },
   "outputs": [],
   "source": [
    "public class EmployeeV1 {\n",
    "    public EmployeeType type;\n",
    "\n",
    "    public EmployeeV1(EmployeeType type) {\n",
    "        this.type = type;\n",
    "    }\n",
    "}"
   ]
  },
  {
   "cell_type": "code",
   "execution_count": null,
   "id": "37608d6af1805360",
   "metadata": {
    "slideshow": {
     "slide_type": "subslide"
    },
    "tags": [
     "subslide",
     "keep"
    ]
   },
   "outputs": [],
   "source": [
    "public double calculatePay(EmployeeV1 e) {\n",
    "    switch (e.type) {\n",
    "        case EmployeeType.COMMISSIONED:\n",
    "            return calculateCommissionedPay(e);\n",
    "        case EmployeeType.HOURLY:\n",
    "            return calculateHourlyPay(e);\n",
    "        case EmployeeType.SALARIED:\n",
    "            return calculateSalariedPay(e);\n",
    "        default:\n",
    "            throw new IllegalArgumentException(\"No valid employee type.\");\n",
    "    }\n",
    "}"
   ]
  },
  {
   "cell_type": "code",
   "execution_count": null,
   "id": "8e9f0c25710689e6",
   "metadata": {
    "slideshow": {
     "slide_type": "subslide"
    },
    "tags": [
     "subslide",
     "keep"
    ]
   },
   "outputs": [],
   "source": [
    "public float calculateCommissionedPay(EmployeeV1 e) {\n",
    "    return 100.0f;\n",
    "}"
   ]
  },
  {
   "cell_type": "code",
   "execution_count": null,
   "id": "6c83f33f10afe433",
   "metadata": {
    "tags": [
     "keep"
    ]
   },
   "outputs": [],
   "source": [
    "public double calculateHourlyPay(EmployeeV1 e) {\n",
    "    return 120.0;\n",
    "}"
   ]
  },
  {
   "cell_type": "code",
   "execution_count": null,
   "id": "a76ec7694e2809cf",
   "metadata": {
    "tags": [
     "keep"
    ]
   },
   "outputs": [],
   "source": [
    "public float calculateSalariedPay(EmployeeV1 e) {\n",
    "    return 80.0f;\n",
    "}"
   ]
  },
  {
   "cell_type": "code",
   "execution_count": null,
   "id": "d89ffa2123952793",
   "metadata": {
    "tags": [
     "keep"
    ]
   },
   "outputs": [],
   "source": [
    "EmployeeV1 e1 = new EmployeeV1(EmployeeType.HOURLY);\n",
    "EmployeeV1 e2 = new EmployeeV1(EmployeeType.SALARIED);"
   ]
  },
  {
   "cell_type": "code",
   "execution_count": null,
   "id": "bfd3e381dff16fe4",
   "metadata": {
    "tags": [
     "keep"
    ]
   },
   "outputs": [],
   "source": [
    "System.out.println(calculatePay(e1));\n",
    "System.out.println(calculatePay(e2));"
   ]
  },
  {
   "cell_type": "markdown",
   "id": "d21a251ddddc441a",
   "metadata": {
    "lang": "de",
    "slideshow": {
     "slide_type": "slide"
    },
    "tags": [
     "slide"
    ]
   },
   "source": [
    "\n",
    "- Switch-Anweisungen führen oft Operationen auf der gleichen Abstraktionsebene\n",
    "  aus. (für \"Subtypen\" anstelle des ursprünglichen Typs)\n",
    "- \"Subtypen\" werden oft durch Typ-Tags unterschieden\n",
    "- In Python wird das mit `if`-`elif`-`else`-Ketten realisiert, da es keine\n",
    "  `switch`-Anweisung gibt"
   ]
  },
  {
   "cell_type": "markdown",
   "id": "35b261f956886e67",
   "metadata": {
    "lang": "de",
    "slideshow": {
     "slide_type": "subslide"
    },
    "tags": [
     "subslide"
    ]
   },
   "source": [
    "\n",
    "## Ersetze Switch-Anweisung durch Polymorphie\n",
    "\n",
    "Es ist oft besser, switch-Anweisungen durch Vererbung und Polymorphie zu\n",
    "ersetzen:"
   ]
  },
  {
   "cell_type": "code",
   "execution_count": null,
   "id": "255e625c5d441967",
   "metadata": {
    "tags": [
     "keep"
    ]
   },
   "outputs": [],
   "source": [
    "public interface EmployeeV2 {\n",
    "    double calculatePay();\n",
    "}"
   ]
  },
  {
   "cell_type": "code",
   "execution_count": null,
   "id": "5f94c6a57e9519db",
   "metadata": {
    "slideshow": {
     "slide_type": "subslide"
    },
    "tags": [
     "subslide",
     "keep"
    ]
   },
   "outputs": [],
   "source": [
    "public class CommissionedEmployee implements EmployeeV2 {\n",
    "    @Override\n",
    "    public double calculatePay() {\n",
    "        return 100.0;\n",
    "    }\n",
    "}"
   ]
  },
  {
   "cell_type": "code",
   "execution_count": null,
   "id": "e2d1404dc9526fea",
   "metadata": {
    "tags": [
     "keep"
    ]
   },
   "outputs": [],
   "source": [
    "public class HourlyEmployee implements EmployeeV2 {\n",
    "    @Override\n",
    "    public double calculatePay() {\n",
    "        return 120.0;\n",
    "    }\n",
    "}"
   ]
  },
  {
   "cell_type": "code",
   "execution_count": null,
   "id": "a42e935499660166",
   "metadata": {
    "tags": [
     "keep"
    ]
   },
   "outputs": [],
   "source": [
    "public class SalariedEmployee implements EmployeeV2 {\n",
    "    @Override\n",
    "    public double calculatePay() {\n",
    "        return 80.0;\n",
    "    }\n",
    "}"
   ]
  },
  {
   "cell_type": "code",
   "execution_count": null,
   "id": "adea31041fe4a3f3",
   "metadata": {
    "slideshow": {
     "slide_type": "subslide"
    },
    "tags": [
     "subslide",
     "keep"
    ]
   },
   "outputs": [],
   "source": [
    "public EmployeeV2 createEmployeeV2(EmployeeType employeeType) {\n",
    "    switch (employeeType) {\n",
    "        case EmployeeType.COMMISSIONED:\n",
    "            return new CommissionedEmployee();\n",
    "        case EmployeeType.HOURLY:\n",
    "            return new HourlyEmployee();\n",
    "        case EmployeeType.SALARIED:\n",
    "            return new SalariedEmployee();\n",
    "        default:\n",
    "            throw new IllegalArgumentException(\"Not a valid employee type.\");\n",
    "    }\n",
    "}"
   ]
  },
  {
   "cell_type": "code",
   "execution_count": null,
   "id": "b39f3288e1bfcb5c",
   "metadata": {
    "slideshow": {
     "slide_type": "subslide"
    },
    "tags": [
     "subslide",
     "keep"
    ]
   },
   "outputs": [],
   "source": [
    "EmployeeV2 e1 = createEmployeeV2(EmployeeType.HOURLY);\n",
    "EmployeeV2 e2 = createEmployeeV2(EmployeeType.SALARIED);"
   ]
  },
  {
   "cell_type": "code",
   "execution_count": null,
   "id": "4b4e48b184991a62",
   "metadata": {
    "tags": [
     "keep"
    ]
   },
   "outputs": [],
   "source": [
    "System.out.println(e1.calculatePay());\n",
    "System.out.println(e2.calculatePay());"
   ]
  },
  {
   "cell_type": "markdown",
   "id": "b9ee5d4e73b18bb4",
   "metadata": {
    "lang": "de",
    "slideshow": {
     "slide_type": "subslide"
    },
    "tags": [
     "subslide"
    ]
   },
   "source": [
    "\n",
    "## Trade-Offs: Vererbungsvariante\n",
    "\n",
    "- Neue \"Bezahlvarianten\" könne ohne Änderung des bestehenden Codes hinzugefügt\n",
    "  werden\n",
    "- Potentiell Explosion von Unterklassen (bei mehreren Enumerationstypen)"
   ]
  },
  {
   "cell_type": "markdown",
   "id": "026bc1731a7265ec",
   "metadata": {
    "lang": "de",
    "slideshow": {
     "slide_type": "subslide"
    },
    "tags": [
     "subslide"
    ]
   },
   "source": [
    "\n",
    "## Trade-Offs: Switch-Variante\n",
    "\n",
    "- Einfacher zu verstehen\n",
    "- Erleichtert die Definition von Funktionen, die auf die Enumeration zugreifen\n",
    "  - In Python gibt es aber `functools.singledispatch` für die Vererbungsvariante"
   ]
  },
  {
   "cell_type": "markdown",
   "id": "d9792e9a1fe4dee3",
   "metadata": {
    "lang": "de",
    "slideshow": {
     "slide_type": "subslide"
    },
    "tags": [
     "subslide"
    ]
   },
   "source": [
    "\n",
    "## Trade-Offs: Design\n",
    "\n",
    "- Spiegelt sich die Unterscheidung zwischen den Subtypen im Domänenmodell\n",
    "  wieder?"
   ]
  },
  {
   "cell_type": "markdown",
   "id": "ce07370e510fa4a7",
   "metadata": {
    "lang": "de",
    "slideshow": {
     "slide_type": "subslide"
    },
    "tags": [
     "subslide"
    ]
   },
   "source": [
    "\n",
    "## Ersetzen der Enumeration durch Vererbung\n",
    "\n",
    "- Polymorphie statt Enumeration\n",
    "- Nicht auf der Ebene der gesamten Klasse\n",
    "- Mildert die Nachteile der Vererbungsvariante"
   ]
  },
  {
   "cell_type": "markdown",
   "id": "0c3cd988ecd02722",
   "metadata": {
    "lang": "de",
    "slideshow": {
     "slide_type": "subslide"
    },
    "tags": [
     "subslide"
    ]
   },
   "source": [
    "\n",
    "### Beispiel\n",
    "\n",
    "- Abstrakte Klasse `PaymentCalculator` statt `EmployeeType`\n",
    "- Konkrete Unterklasse pro \"Bezahlvariante\"\n",
    "- `Employee` delegiert Berechnung an `PaymentCalculator`"
   ]
  },
  {
   "cell_type": "code",
   "execution_count": null,
   "id": "780be881a6da34a0",
   "metadata": {
    "slideshow": {
     "slide_type": "subslide"
    },
    "tags": [
     "keep",
     "subslide"
    ]
   },
   "outputs": [],
   "source": [
    "public interface PaymentCalculator {\n",
    "    double calculatePay();\n",
    "}"
   ]
  },
  {
   "cell_type": "code",
   "execution_count": null,
   "id": "7c3d806234c5f0e0",
   "metadata": {
    "tags": [
     "keep"
    ]
   },
   "outputs": [],
   "source": [
    "public class CommissionedPaymentCalculator implements PaymentCalculator {\n",
    "    @Override\n",
    "    public double calculatePay() {\n",
    "        return 100.0;\n",
    "    }\n",
    "}"
   ]
  },
  {
   "cell_type": "code",
   "execution_count": null,
   "id": "d42f38f688a498d9",
   "metadata": {
    "slideshow": {
     "slide_type": "subslide"
    },
    "tags": [
     "subslide",
     "keep"
    ]
   },
   "outputs": [],
   "source": [
    "public class HourlyPaymentCalculator implements PaymentCalculator {\n",
    "    @Override\n",
    "    public double calculatePay() {\n",
    "        return 120.0;\n",
    "    }\n",
    "}"
   ]
  },
  {
   "cell_type": "code",
   "execution_count": null,
   "id": "52e92f2fa3becdf6",
   "metadata": {
    "tags": [
     "keep"
    ]
   },
   "outputs": [],
   "source": [
    "public class SalariedPaymentCalculator implements PaymentCalculator {\n",
    "    @Override\n",
    "    public double calculatePay() {\n",
    "        return 80.0;\n",
    "    }\n",
    "}"
   ]
  },
  {
   "cell_type": "code",
   "execution_count": null,
   "id": "91ba91eae2aed3e3",
   "metadata": {
    "slideshow": {
     "slide_type": "subslide"
    },
    "tags": [
     "subslide",
     "keep"
    ]
   },
   "outputs": [],
   "source": [
    "public class EmployeeV3 {\n",
    "    private PaymentCalculator paymentCalculator;\n",
    "\n",
    "    public EmployeeV3(PaymentCalculator paymentCalculator) {\n",
    "        this.paymentCalculator = paymentCalculator;\n",
    "    }\n",
    "\n",
    "    public double calculatePay() {\n",
    "        return paymentCalculator.calculatePay();\n",
    "    }\n",
    "}"
   ]
  },
  {
   "cell_type": "code",
   "execution_count": null,
   "id": "921dd6bf33e6e3d3",
   "metadata": {
    "slideshow": {
     "slide_type": "subslide"
    },
    "tags": [
     "keep",
     "subslide"
    ]
   },
   "outputs": [],
   "source": [
    "public EmployeeV3 createEmployeeV3(EmployeeType employeeType) {\n",
    "    switch (employeeType) {\n",
    "        case EmployeeType.COMMISSIONED:\n",
    "            return new EmployeeV3(new CommissionedPaymentCalculator());\n",
    "        case EmployeeType.HOURLY:\n",
    "            return new EmployeeV3(new HourlyPaymentCalculator());\n",
    "        case EmployeeType.SALARIED:\n",
    "            return new EmployeeV3(new SalariedPaymentCalculator());\n",
    "        default:\n",
    "            throw new IllegalArgumentException(\"Not a valid employee type.\");\n",
    "    }\n",
    "}"
   ]
  },
  {
   "cell_type": "code",
   "execution_count": null,
   "id": "4eeb4b34aeee3b62",
   "metadata": {
    "slideshow": {
     "slide_type": "subslide"
    },
    "tags": [
     "subslide",
     "keep"
    ]
   },
   "outputs": [],
   "source": [
    "EmployeeV3 e1 = createEmployeeV3(EmployeeType.HOURLY);\n",
    "EmployeeV3 e2 = createEmployeeV3(EmployeeType.SALARIED);"
   ]
  },
  {
   "cell_type": "code",
   "execution_count": null,
   "id": "5038fb1c2e1a3132",
   "metadata": {
    "tags": [
     "keep"
    ]
   },
   "outputs": [],
   "source": [
    "System.out.println(e1.calculatePay());\n",
    "System.out.println(e2.calculatePay());"
   ]
  },
  {
   "cell_type": "markdown",
   "id": "6aca3b61b1617d3f",
   "metadata": {
    "lang": "de",
    "slideshow": {
     "slide_type": "slide"
    },
    "tags": [
     "slide"
    ]
   },
   "source": [
    "\n",
    "## Mini-Workshop: Ersetzen von Switch-Anweisungen\n",
    "\n",
    "Strukturieren Sie den folgenden Code so um, dass nur noch bei der Erzeugung\n",
    "der Objekte eine \"switch-Anweisung\" verwendet wird:"
   ]
  },
  {
   "cell_type": "code",
   "execution_count": null,
   "id": "cd7ab004f8952fad",
   "metadata": {
    "tags": [
     "keep"
    ]
   },
   "outputs": [],
   "source": [
    "public enum ComputerType {\n",
    "    COMPUTER_TYPE_PC,\n",
    "    COMPUTER_TYPE_MAC,\n",
    "    COMPUTER_TYPE_CHROMEBOOK\n",
    "}"
   ]
  },
  {
   "cell_type": "code",
   "execution_count": null,
   "id": "bd722d5a612d00c1",
   "metadata": {
    "tags": [
     "keep"
    ]
   },
   "outputs": [],
   "source": [
    "public class ComputerV1 {\n",
    "    public ComputerType computerType;\n",
    "\n",
    "    public ComputerV1(ComputerType computerType) {\n",
    "        this.computerType = computerType;\n",
    "    }\n",
    "}"
   ]
  },
  {
   "cell_type": "code",
   "execution_count": null,
   "id": "a91586450574277f",
   "metadata": {
    "slideshow": {
     "slide_type": "subslide"
    },
    "tags": [
     "keep",
     "subslide"
    ]
   },
   "outputs": [],
   "source": [
    "public void compileCode(ComputerV1 computer) {\n",
    "    switch (computer.computerType) {\n",
    "        case COMPUTER_TYPE_PC:\n",
    "            System.out.println(\"Compiling code for PC.\");\n",
    "            break;\n",
    "        case COMPUTER_TYPE_MAC:\n",
    "            System.out.println(\"Compiling code for Mac.\");\n",
    "            break;\n",
    "        case COMPUTER_TYPE_CHROMEBOOK:\n",
    "            System.out.println(\"Compiling code for Chromebook.\");\n",
    "            break;\n",
    "        default:\n",
    "            throw new IllegalArgumentException(\"Don't know how to compile code for this computer.\");\n",
    "    }\n",
    "}"
   ]
  },
  {
   "cell_type": "code",
   "execution_count": null,
   "id": "e7debccdecefe851",
   "metadata": {
    "tags": [
     "keep"
    ]
   },
   "outputs": [],
   "source": [
    "ComputerV1 myPc = new ComputerV1(ComputerType.COMPUTER_TYPE_PC);\n",
    "ComputerV1 myMac = new ComputerV1(ComputerType.COMPUTER_TYPE_MAC);\n",
    "ComputerV1 myChromebook = new ComputerV1(ComputerType.COMPUTER_TYPE_CHROMEBOOK);"
   ]
  },
  {
   "cell_type": "code",
   "execution_count": null,
   "id": "cb0c2624767edb70",
   "metadata": {
    "tags": [
     "keep"
    ]
   },
   "outputs": [],
   "source": [
    "compileCode(myPc);\n",
    "compileCode(myMac);\n",
    "compileCode(myChromebook);"
   ]
  },
  {
   "cell_type": "code",
   "execution_count": null,
   "id": "1e8b6d2baeb035e3",
   "metadata": {
    "slideshow": {
     "slide_type": "subslide"
    },
    "tags": [
     "subslide"
    ]
   },
   "outputs": [],
   "source": [
    "public interface ComputerV2 {\n",
    "    void compileCode();\n",
    "}"
   ]
  },
  {
   "cell_type": "code",
   "execution_count": null,
   "id": "5e1f63f3fd442cca",
   "metadata": {},
   "outputs": [],
   "source": [
    "public class PC implements ComputerV2 {\n",
    "    @Override\n",
    "    public void compileCode() {\n",
    "        System.out.println(\"Compiling code for PC.\");\n",
    "    }\n",
    "}"
   ]
  },
  {
   "cell_type": "code",
   "execution_count": null,
   "id": "cfa4372278cdd901",
   "metadata": {},
   "outputs": [],
   "source": [
    "public class Mac implements ComputerV2 {\n",
    "    @Override\n",
    "    public void compileCode() {\n",
    "        System.out.println(\"Compiling code for Mac.\");\n",
    "    }\n",
    "}"
   ]
  },
  {
   "cell_type": "code",
   "execution_count": null,
   "id": "f2a90b6161a7934a",
   "metadata": {},
   "outputs": [],
   "source": [
    "public class Chromebook implements ComputerV2 {\n",
    "    @Override\n",
    "    public void compileCode() {\n",
    "        System.out.println(\"Compiling code for Chromebook.\");\n",
    "    }\n",
    "}"
   ]
  },
  {
   "cell_type": "code",
   "execution_count": null,
   "id": "86a94e244035d025",
   "metadata": {
    "slideshow": {
     "slide_type": "subslide"
    },
    "tags": [
     "subslide"
    ]
   },
   "outputs": [],
   "source": [
    "public ComputerV2 createComputerV2(ComputerType type) {\n",
    "    switch (type) {\n",
    "        case COMPUTER_TYPE_PC:\n",
    "            return new PC();\n",
    "        case COMPUTER_TYPE_MAC:\n",
    "            return new Mac();\n",
    "        case COMPUTER_TYPE_CHROMEBOOK:\n",
    "            return new Chromebook();\n",
    "        default:\n",
    "            throw new IllegalArgumentException(\"Don't know how to create computer of type \" + type + \".\");\n",
    "    }\n",
    "}"
   ]
  },
  {
   "cell_type": "code",
   "execution_count": null,
   "id": "cf23e78a09b2cfda",
   "metadata": {},
   "outputs": [],
   "source": [
    "ComputerV2 myPcV2 = createComputerV2(ComputerType.COMPUTER_TYPE_PC);\n",
    "ComputerV2 myMacV2 = createComputerV2(ComputerType.COMPUTER_TYPE_MAC);\n",
    "ComputerV2 myChromebookV2 = createComputerV2(ComputerType.COMPUTER_TYPE_CHROMEBOOK);"
   ]
  },
  {
   "cell_type": "code",
   "execution_count": null,
   "id": "c64e11edddcc1c1d",
   "metadata": {},
   "outputs": [],
   "source": [
    "myPcV2.compileCode();\n",
    "myMacV2.compileCode();\n",
    "myChromebookV2.compileCode();"
   ]
  },
  {
   "cell_type": "code",
   "execution_count": null,
   "id": "88066cef1052b41b",
   "metadata": {},
   "outputs": [],
   "source": [
    "public interface Compiler {\n",
    "    void compileCode();\n",
    "}"
   ]
  },
  {
   "cell_type": "code",
   "execution_count": null,
   "id": "cd135f3399c35b1a",
   "metadata": {},
   "outputs": [],
   "source": [
    "public class PCCompiler implements Compiler {\n",
    "    @Override\n",
    "    public void compileCode() {\n",
    "        System.out.println(\"Compiling code for PC.\");\n",
    "    }\n",
    "}"
   ]
  },
  {
   "cell_type": "code",
   "execution_count": null,
   "id": "5735cd22d9696cec",
   "metadata": {},
   "outputs": [],
   "source": [
    "public class MacCompiler implements Compiler {\n",
    "    @Override\n",
    "    public void compileCode() {\n",
    "        System.out.println(\"Compiling code for Mac.\");\n",
    "    }\n",
    "}"
   ]
  },
  {
   "cell_type": "code",
   "execution_count": null,
   "id": "f6ecbafa36e987c9",
   "metadata": {},
   "outputs": [],
   "source": [
    "public class ChromebookCompiler implements Compiler {\n",
    "    @Override\n",
    "    public void compileCode() {\n",
    "        System.out.println(\"Compiling code for Chromebook.\");\n",
    "    }\n",
    "}"
   ]
  },
  {
   "cell_type": "code",
   "execution_count": null,
   "id": "c7f5d45f71a7c376",
   "metadata": {},
   "outputs": [],
   "source": [
    "public class ComputerV3 {\n",
    "    private Compiler compiler;\n",
    "\n",
    "    public ComputerV3(Compiler compiler) {\n",
    "        this.compiler = compiler;\n",
    "    }\n",
    "\n",
    "    public void compileCode() {\n",
    "        compiler.compileCode();\n",
    "    }\n",
    "}"
   ]
  },
  {
   "cell_type": "code",
   "execution_count": null,
   "id": "2aca83125b62d9bd",
   "metadata": {},
   "outputs": [],
   "source": [
    "public ComputerV3 createComputerV3(ComputerType type) {\n",
    "    switch (type) {\n",
    "        case COMPUTER_TYPE_PC:\n",
    "            return new ComputerV3(new PCCompiler());\n",
    "        case COMPUTER_TYPE_MAC:\n",
    "            return new ComputerV3(new MacCompiler());\n",
    "        case COMPUTER_TYPE_CHROMEBOOK:\n",
    "            return new ComputerV3(new ChromebookCompiler());\n",
    "        default:\n",
    "            throw new IllegalArgumentException(\"Don't know how to create computer of type \" + type + \".\");\n",
    "    }\n",
    "}"
   ]
  },
  {
   "cell_type": "code",
   "execution_count": null,
   "id": "f8cc76906712cdb6",
   "metadata": {},
   "outputs": [],
   "source": [
    "ComputerV3 myPcV3 = createComputerV3(ComputerType.COMPUTER_TYPE_PC);\n",
    "ComputerV3 myMacV3 = createComputerV3(ComputerType.COMPUTER_TYPE_MAC);\n",
    "ComputerV3 myChromebookV3 = createComputerV3(ComputerType.COMPUTER_TYPE_CHROMEBOOK);"
   ]
  },
  {
   "cell_type": "code",
   "execution_count": null,
   "id": "3f1afc0735541c91",
   "metadata": {},
   "outputs": [],
   "source": [
    "myPcV3.compileCode();\n",
    "myMacV3.compileCode();\n",
    "myChromebookV3.compileCode();"
   ]
  }
 ],
 "metadata": {
  "jupytext": {
   "cell_metadata_filter": "tags,lang,-all",
   "encoding": "// -*- coding: utf-8 -*-",
   "main_language": "java",
   "notebook_metadata_filter": "-all"
  },
  "kernelspec": {
   "display_name": "Java",
   "language": "java",
   "name": "java"
  },
  "language_info": {
   "codemirror_mode": "java",
   "file_extension": ".java",
   "mimetype": "text/java",
   "name": "Java",
   "pygments_lexer": "java",
   "version": ""
  }
 },
 "nbformat": 4,
 "nbformat_minor": 5
}
