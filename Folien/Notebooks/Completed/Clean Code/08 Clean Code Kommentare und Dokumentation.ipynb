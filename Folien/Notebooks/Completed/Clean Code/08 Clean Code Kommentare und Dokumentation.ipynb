{
 "cells": [
  {
   "cell_type": "markdown",
   "id": "4debf797d46b2574",
   "metadata": {
    "lang": "de",
    "slideshow": {
     "slide_type": "slide"
    },
    "tags": [
     "slide"
    ]
   },
   "source": [
    "\n",
    "<img src=\"data:image/svg+xml;base64,PHN2ZyB4bWxucz0iaHR0cDovL3d3dy53My5vcmcvMjAwMC9zdmciIHdpZHRoPSI2NCIgaGVpZ2h0\n",
    "PSI2NCIgdmlld0JveD0iMCAwIDMyIDMyIj48cGF0aCBkPSJNMTEuNjIyIDI0Ljc0cy0xLjIzLjc0\n",
    "OC44NTUuOTYyYzIuNTEuMzIgMy44NDcuMjY3IDYuNjI1LS4yNjdhMTAuMDIgMTAuMDIgMCAwIDAg\n",
    "MS43NjMuODU1Yy02LjI1IDIuNjcyLTE0LjE2LS4xNi05LjI0NC0xLjU1em0tLjgtMy40NzNzLTEu\n",
    "MzM2IDEuMDE1Ljc0OCAxLjIzYzIuNzI1LjI2NyA0Ljg2Mi4zMiA4LjU1LS40MjdhMy4yNiAzLjI2\n",
    "IDAgMCAwIDEuMjgyLjgwMWMtNy41MzQgMi4yNDQtMTUuOTc2LjIxNC0xMC41OC0xLjYwM3ptMTQu\n",
    "NzQ3IDYuMDlzLjkwOC43NDgtMS4wMTUgMS4zMzZjLTMuNTggMS4wNy0xNS4wMTQgMS4zOS0xOC4y\n",
    "MiAwLTEuMTIyLS40OCAxLjAxNS0xLjE3NSAxLjctMS4yODIuNjk1LS4xNiAxLjA3LS4xNiAxLjA3\n",
    "LS4xNi0xLjIzLS44NTUtOC4xNzUgMS43NjMtMy41MjYgMi41MSAxMi43NyAyLjA4NCAyMy4yOTYt\n",
    "LjkwOCAxOS45ODMtMi40MDR6TTEyLjIgMTcuNjMzcy01LjgyNCAxLjM5LTIuMDg0IDEuODdjMS42\n",
    "MDMuMjE0IDQuNzU1LjE2IDcuNjk0LS4wNTMgMi40MDQtLjIxNCA0LjgxLS42NCA0LjgxLS42NHMt\n",
    "Ljg1NS4zNzQtMS40NDMuNzQ4Yy01LjkzIDEuNTUtMTcuMzEyLjg1NS0xNC4wNTItLjc0OCAyLjc3\n",
    "OC0xLjMzNiA1LjA3Ni0xLjE3NSA1LjA3Ni0xLjE3NXptMTAuNDIgNS44MjRjNS45ODQtMy4xIDMu\n",
    "MjA2LTYuMDkgMS4yODItNS43MTctLjQ4LjEwNy0uNjk1LjIxNC0uNjk1LjIxNHMuMTYtLjMyLjUz\n",
    "NC0uNDI3YzMuNzk0LTEuMzM2IDYuNzg2IDQuMDA3LTEuMjMgNi4wOSAwIDAgLjA1My0uMDUzLjEw\n",
    "Ny0uMTZ6bS05LjgzIDguNDQyYzUuNzcuMzc0IDE0LjU4Ny0uMjE0IDE0LjgtMi45NCAwIDAtLjQy\n",
    "NyAxLjA3LTQuNzU1IDEuODctNC45MTYuOTA4LTExLjAwNy44LTE0LjU4Ny4yMTQgMCAwIC43NDgu\n",
    "NjQgNC41NDIuODU1eiIgZmlsbD0iIzRlNzg5NiIvPjxwYXRoIGQ9Ik0xOC45OTYuMDAxczMuMzEz\n",
    "IDMuMzY2LTMuMTUyIDguNDQyYy01LjE4MyA0LjExNC0xLjE3NSA2LjQ2NSAwIDkuMTM3LTMuMDQ2\n",
    "LTIuNzI1LTUuMjM2LTUuMTMtMy43NC03LjM3M0MxNC4yOTQgNi44OTMgMjAuMzMyIDUuMyAxOC45\n",
    "OTYuMDAxem0tMS43IDE1LjMzNWMxLjU1IDEuNzYzLS40MjcgMy4zNjYtLjQyNyAzLjM2NnMzLjk1\n",
    "NC0yLjAzIDIuMTM3LTQuNTQyYy0xLjY1Ni0yLjQwNC0yLjk0LTMuNTggNC4wMDctNy41ODcgMCAw\n",
    "LTEwLjk1MyAyLjcyNS01LjcxNyA4Ljc2M3oiIGZpbGw9IiNmNTgyMTkiLz48L3N2Zz4=\n",
    "\"\n",
    "     alt=\"Java Logo\" style=\"display:block;margin:auto;width:5%\"/>\n",
    "<br>\n",
    "\n",
    "<div style=\"text-align:center; font-size:200%;\">\n",
    " <b>Clean Code: Kommentare und Dokumentation</b>\n",
    "</div>\n",
    "<br/>\n",
    "<div style=\"text-align:center; font-size:120%;\">Dr. Matthias Hölzl</div>\n",
    "<br/>\n",
    "<div style=\"text-align:center;\">Coding-Akademie München</div>\n",
    "<br/>"
   ]
  },
  {
   "cell_type": "markdown",
   "id": "5ba147a3d8d412d0",
   "metadata": {
    "lang": "de",
    "slideshow": {
     "slide_type": "subslide"
    },
    "tags": [
     "subslide"
    ]
   },
   "source": [
    "\n",
    "## Kommentare\n",
    "\n",
    "- Kommentare kompensieren unser Unvermögen, uns in Code auszudrücken.\n",
    "- Wenn möglich, drücke dich in Code aus, nicht in Kommentaren!\n",
    "  - Wann immer du einen Kommentar schreiben willst, prüfe, ob du es nicht im\n",
    "    Code tun kannst.\n",
    "  - Schreibe lieber Assertions oder Tests, wenn möglich.\n",
    "  - Verwende erklärende Variablen"
   ]
  },
  {
   "cell_type": "code",
   "execution_count": null,
   "id": "3dfd3d827dc2921e",
   "metadata": {
    "slideshow": {
     "slide_type": "subslide"
    },
    "tags": [
     "keep",
     "subslide"
    ]
   },
   "outputs": [],
   "source": [
    "// Checks if a person is eligible for a senior discount\n",
    "boolean check(int n) {\n",
    "    return n >= 65;\n",
    "}"
   ]
  },
  {
   "cell_type": "code",
   "execution_count": null,
   "id": "db81e405a203e878",
   "metadata": {
    "tags": [
     "keep"
    ]
   },
   "outputs": [],
   "source": [
    "check(34)"
   ]
  },
  {
   "cell_type": "code",
   "execution_count": null,
   "id": "3b9fe623a3474090",
   "metadata": {
    "lines_to_next_cell": 2,
    "tags": [
     "keep"
    ]
   },
   "outputs": [],
   "source": [
    "check(70)"
   ]
  },
  {
   "cell_type": "code",
   "execution_count": null,
   "id": "7d0866a2daf4eab1",
   "metadata": {
    "slideshow": {
     "slide_type": "subslide"
    },
    "tags": [
     "keep",
     "subslide"
    ]
   },
   "outputs": [],
   "source": [
    "boolean isEligibleForSeniorDiscount(int age) {\n",
    "    return age >= 65;\n",
    "}"
   ]
  },
  {
   "cell_type": "code",
   "execution_count": null,
   "id": "403d2d5b1adbe3bd",
   "metadata": {
    "tags": [
     "keep"
    ]
   },
   "outputs": [],
   "source": [
    "isEligibleForSeniorDiscount(34)"
   ]
  },
  {
   "cell_type": "code",
   "execution_count": null,
   "id": "8e77e455e127694f",
   "metadata": {},
   "outputs": [],
   "source": [
    "isEligibleForSeniorDiscount(70)"
   ]
  },
  {
   "cell_type": "code",
   "execution_count": null,
   "id": "f37406876ef16058",
   "metadata": {
    "slideshow": {
     "slide_type": "subslide"
    },
    "tags": [
     "keep",
     "subslide"
    ]
   },
   "outputs": [],
   "source": [
    "// Multiply the seconds in a day times the days of work.\n",
    "double ds = 60 * 60 * 24 * 4;"
   ]
  },
  {
   "cell_type": "code",
   "execution_count": null,
   "id": "8087609d911e1c06",
   "metadata": {
    "slideshow": {
     "slide_type": "subslide"
    },
    "tags": [
     "keep",
     "subslide"
    ]
   },
   "outputs": [],
   "source": [
    "ds"
   ]
  },
  {
   "cell_type": "code",
   "execution_count": null,
   "id": "2aea6247aabc7b3a",
   "metadata": {
    "lines_to_next_cell": 2,
    "tags": []
   },
   "outputs": [],
   "source": [
    "final double daysOfWork = 4;\n",
    "final double secondsPerDay = 60 * 60 * 24;\n",
    "double durationInSeconds = secondsPerDay * daysOfWork;"
   ]
  },
  {
   "cell_type": "code",
   "execution_count": null,
   "id": "2b75d03dff6a3a53",
   "metadata": {
    "lines_to_next_cell": 2,
    "tags": []
   },
   "outputs": [],
   "source": [
    "durationInSeconds"
   ]
  },
  {
   "cell_type": "markdown",
   "id": "0a68ff314de8976c",
   "metadata": {
    "lang": "de",
    "slideshow": {
     "slide_type": "subslide"
    },
    "tags": [
     "subslide"
    ]
   },
   "source": [
    "\n",
    "## Wie Kommentare scheitern\n",
    "\n",
    "- Kommentare sind schwer zu pflegen\n",
    "- Deshalb lügen sie oft\n",
    "- Sie werden nicht geändert, wenn der Code aktualisiert wird\n",
    "- Sie werden nicht verschoben, wenn der Code verschoben wird"
   ]
  },
  {
   "cell_type": "markdown",
   "id": "dd8489bdec83e29e",
   "metadata": {},
   "source": [
    "```java\n",
    "# Check to see if the employee is eligible for full benefits\n",
    "if (employee.flags & HOURLY_FLAG) and (employee.age > 65):\n",
    "    ...\n",
    "```\n",
    "\n",
    "versus\n",
    "\n",
    "```java\n",
    "if employee.isEligibleForFullBenefits():\n",
    "    ...\n",
    "```"
   ]
  },
  {
   "cell_type": "markdown",
   "id": "ec25d6106a74f4ac",
   "metadata": {
    "lang": "de",
    "slideshow": {
     "slide_type": "subslide"
    },
    "tags": [
     "subslide"
    ]
   },
   "source": [
    "\n",
    "## Java Regeln für Dokumentations-Kommentare\n",
    "\n",
    "- Beginnen mit `/**`, werden mit `*/` beeendet\n",
    "- Der erste Satz sollte eine Zusammenfassung des Zwecks der Methode sein\n",
    "  - Javadoc fügt diese Zusammenfassung in die Methoden-Tabelle ein\n",
    "- Formatierung durch HTML-Tags\n",
    "  - `<a>` für Links\n",
    "  - `<p>` für Absätze\n",
    "- `{@link}` für Verweise auf andere Klassen (Inline-Tag)\n",
    "- Die erste Zeile, die mit `@` beginnt, beendet die Beschreibung\n",
    "  - `@param` für Parameter\n",
    "  - `@return` für den Rückgabewert\n",
    "  - `@throws` für Ausnahmen\n",
    "- Mehr Informationen in [Javadoc](https://www.oracle.com/technical-resources/articles/java/javadoc-tool.html)"
   ]
  },
  {
   "cell_type": "code",
   "execution_count": null,
   "id": "f85eeb1e6aba33a6",
   "metadata": {
    "slideshow": {
     "slide_type": "subslide"
    },
    "tags": [
     "keep",
     "subslide"
    ]
   },
   "outputs": [],
   "source": [
    "/**\n",
    " * The roots of a quadratic equation\n",
    " */\n",
    "record QuadraticRoots(double root1, double root2) {}"
   ]
  },
  {
   "cell_type": "code",
   "execution_count": null,
   "id": "4793fdfcd4e3ca16",
   "metadata": {
    "slideshow": {
     "slide_type": "subslide"
    },
    "tags": [
     "keep",
     "subslide"
    ]
   },
   "outputs": [],
   "source": [
    "/**\n",
    " * Compute the roots of the quadratic equation ax^2 + bx + c == 0.\n",
    " *\n",
    " * @param a the coefficient of x^2\n",
    " * @param b the coefficient of x\n",
    " * @param c the constant term\n",
    " * @return the roots of the equation\n",
    " * @throws IllegalArgumentException if the equation has no real roots\n",
    " */\n",
    "QuadraticRoots solveQuadraticEquation(double a, double b, double c) {\n",
    "    double root = Math.sqrt(b * b - 4 * a * c);\n",
    "    double d = 2 * a;\n",
    "    return new QuadraticRoots((-b + root) / d, (-b - root) / d);\n",
    "}"
   ]
  },
  {
   "cell_type": "code",
   "execution_count": null,
   "id": "e93fb339e49cd10a",
   "metadata": {},
   "outputs": [],
   "source": [
    "solveQuadraticEquation(1, 0, -1)"
   ]
  },
  {
   "cell_type": "markdown",
   "id": "9daee1d250a4856f",
   "metadata": {
    "lang": "de",
    "slideshow": {
     "slide_type": "subslide"
    },
    "tags": [
     "subslide"
    ]
   },
   "source": [
    "\n",
    "## Gute Kommentare\n",
    "\n",
    "Kommentare sind gut, wenn sie\n",
    "\n",
    "- aus juristischen Gründen notwendig sind\n",
    "- Konzepte erklären, die nicht im Code ausgedrückt werden können\n",
    "- den Zweck des Codes erklären\n",
    "- Code erklären, den man nicht bereinigen kann (z.B. eine veröffentlichte\n",
    "  Schnittstelle)\n",
    "- veröffentlichte Schnittstellen dokumentieren (z.B. mit Doxygen)\n",
    "- `TODO`-Kommentare sind (wenn sie sparsam verwendet werden)\n",
    "- wichtige Aspekte betonen (\"Dies ist sehr wichtig, weil...\")"
   ]
  },
  {
   "cell_type": "markdown",
   "id": "9d88d0fa6d8928d6",
   "metadata": {
    "lang": "de",
    "slideshow": {
     "slide_type": "subslide"
    },
    "tags": [
     "subslide"
    ]
   },
   "source": [
    "\n",
    "## Schlechte Kommentare\n",
    "\n",
    "- Unklare Kommentare (Nuscheln)\n",
    "\n",
    "Angenommen, der folgende Kommentar ist tatsächlich richtig. Was sagt er uns?"
   ]
  },
  {
   "cell_type": "code",
   "execution_count": null,
   "id": "08c4feb9b922a39a",
   "metadata": {
    "lines_to_next_cell": 2,
    "tags": [
     "keep"
    ]
   },
   "outputs": [],
   "source": [
    "import java.io.BufferedReader;\n",
    "import java.io.FileInputStream;\n",
    "import java.io.FileNotFoundException;\n",
    "import java.io.InputStreamReader;\n",
    "import java.nio.charset.StandardCharsets;"
   ]
  },
  {
   "cell_type": "code",
   "execution_count": null,
   "id": "274b040d0157f81b",
   "metadata": {
    "lines_to_next_cell": 2,
    "tags": [
     "keep"
    ]
   },
   "outputs": [],
   "source": [
    "try (BufferedReader reader = new BufferedReader(\n",
    "        new InputStreamReader(\n",
    "            new FileInputStream(\"my-app.cfg\"), StandardCharsets.UTF_8))) {\n",
    "    // ...\n",
    "} catch (FileNotFoundException e) {\n",
    "    // Somebody else has already loaded the defaults.\n",
    "    // Print a message.\n",
    "    System.out.println(\"No config file.\");\n",
    "}"
   ]
  },
  {
   "cell_type": "markdown",
   "id": "31d6a242f53f117c",
   "metadata": {
    "lang": "de",
    "slideshow": {
     "slide_type": "subslide"
    },
    "tags": [
     "subslide"
    ]
   },
   "source": [
    "\n",
    "- Redundante Kommentare (dauern länger als der Code zu lesen, ohne klarer zu\n",
    "  sein)"
   ]
  },
  {
   "cell_type": "code",
   "execution_count": null,
   "id": "f047d5a500e035df",
   "metadata": {
    "tags": [
     "keep"
    ]
   },
   "outputs": [],
   "source": [
    "import java.nio.charset.CharacterCodingException;"
   ]
  },
  {
   "cell_type": "code",
   "execution_count": null,
   "id": "8efcfa5de7ec9361",
   "metadata": {
    "tags": [
     "keep"
    ]
   },
   "outputs": [],
   "source": [
    "void readAndApplyConfiguration(String filename) throws FileNotFoundException, CharacterCodingException {\n",
    "    // ...\n",
    "}"
   ]
  },
  {
   "cell_type": "code",
   "execution_count": null,
   "id": "623d74d502cd6260",
   "metadata": {
    "tags": [
     "keep"
    ]
   },
   "outputs": [],
   "source": [
    "// Read the configuration from file `my-app.cfg`. The file has to be readable and\n",
    "// in a valid encoding.\n",
    "// If the file is in a bad encoding, we print a message and ignore the attempt.\n",
    "// If the file cannot be found we simply ignore the attempt without printing anything.\n",
    "// If the file is indeed found, we read it and apply the configuration to the\n",
    "// system.\n",
    "try {\n",
    "    readAndApplyConfiguration(\"my-app.cfg\");\n",
    "}\n",
    "catch (CharacterCodingException e) {\n",
    "    System.out.println(\"Bad character encoding.\");\n",
    "}\n",
    "catch (FileNotFoundException e) {\n",
    "    // Ignore the attempt to read the configuration file\n",
    "}"
   ]
  },
  {
   "cell_type": "markdown",
   "id": "b9f5fcebe3c4fa16",
   "metadata": {
    "lang": "de",
    "slideshow": {
     "slide_type": "subslide"
    },
    "tags": [
     "subslide"
    ]
   },
   "source": [
    "\n",
    "- Irreführende Kommentare"
   ]
  },
  {
   "cell_type": "code",
   "execution_count": null,
   "id": "05e3893ff594147e",
   "metadata": {
    "tags": [
     "keep"
    ]
   },
   "outputs": [],
   "source": [
    "import java.util.ArrayList;\n",
    "import java.util.stream.Stream;\n",
    "import java.util.stream.Collectors;"
   ]
  },
  {
   "cell_type": "code",
   "execution_count": null,
   "id": "61bbd22bb41949ee",
   "metadata": {
    "tags": [
     "keep"
    ]
   },
   "outputs": [],
   "source": [
    "// Return a new list that is the concatenation of the elements in `list_1` and\n",
    "// `list_2`.\n",
    "ArrayList<Integer> concatenateLists(ArrayList<Integer> list1, ArrayList<Integer> list2) {\n",
    "    if (list1.isEmpty()) {\n",
    "        return list2;\n",
    "    } else if (list2.isEmpty()) {\n",
    "        return list1;\n",
    "    } else {\n",
    "        return Stream.concat(list1.stream(), list2.stream())\n",
    "                     .collect(Collectors.toCollection(ArrayList::new));\n",
    "    }\n",
    "}"
   ]
  },
  {
   "cell_type": "code",
   "execution_count": null,
   "id": "cd333e164219562d",
   "metadata": {},
   "outputs": [],
   "source": [
    "ArrayList<Integer> x = new ArrayList<>(List.of(1, 2));\n",
    "ArrayList<Integer> y = new ArrayList<>(List.of(3, 4));\n",
    "ArrayList<Integer> z = new ArrayList<>(List.of(1, 2, 3, 4));\n",
    "ArrayList<Integer> empty = new ArrayList<>();"
   ]
  },
  {
   "cell_type": "code",
   "execution_count": null,
   "id": "a340b83172333520",
   "metadata": {
    "tags": [
     "keep"
    ]
   },
   "outputs": [],
   "source": [
    "concatenateLists(x, y)"
   ]
  },
  {
   "cell_type": "code",
   "execution_count": null,
   "id": "193479d939444279",
   "metadata": {},
   "outputs": [],
   "source": [
    "assert concatenateLists(x, y).equals(z);"
   ]
  },
  {
   "cell_type": "code",
   "execution_count": null,
   "id": "ab42a2f93985ba5a",
   "metadata": {
    "tags": [
     "keep"
    ]
   },
   "outputs": [],
   "source": [
    "assert concatenateLists(x, y) != z;"
   ]
  },
  {
   "cell_type": "markdown",
   "id": "a8564a8df76fb146",
   "metadata": {
    "lang": "de",
    "slideshow": {
     "slide_type": "subslide"
    },
    "tags": [
     "subslide"
    ]
   },
   "source": [
    "\n",
    "Aufgrund des Kommentars würde man folgendes Verhalten nicht erwarten:"
   ]
  },
  {
   "cell_type": "code",
   "execution_count": null,
   "id": "fe89f2bec076da37",
   "metadata": {
    "tags": [
     "keep"
    ]
   },
   "outputs": [],
   "source": [
    "assert concatenateLists(x, empty) == x;"
   ]
  },
  {
   "cell_type": "code",
   "execution_count": null,
   "id": "79455bf504f0cad9",
   "metadata": {},
   "outputs": [],
   "source": [
    "List<Integer> x2 = concatenateLists(x, empty);"
   ]
  },
  {
   "cell_type": "code",
   "execution_count": null,
   "id": "549315a6ee92c0ab",
   "metadata": {},
   "outputs": [],
   "source": [
    "x2.add(3);"
   ]
  },
  {
   "cell_type": "code",
   "execution_count": null,
   "id": "63e6ceb28ad474fa",
   "metadata": {},
   "outputs": [],
   "source": [
    "x"
   ]
  },
  {
   "cell_type": "markdown",
   "id": "aedbde9e7314cfe8",
   "metadata": {
    "lang": "de",
    "slideshow": {
     "slide_type": "subslide"
    },
    "tags": [
     "subslide"
    ]
   },
   "source": [
    "\n",
    "- Vorgeschriebene Kommentare (durch Style-Guides, nicht durch Gesetze)\n",
    "- Journal-Kommentare (Geschichte der Datei)"
   ]
  },
  {
   "cell_type": "markdown",
   "id": "d8cae0230e87d5ea",
   "metadata": {
    "tags": [
     "keep"
    ]
   },
   "source": [
    "```java\n",
    "// file: widget.java\n",
    "//\n",
    "// Changes made to the file:\n",
    "//\n",
    "// 2022-08-10: Added a frobnicator as proposed by Jane\n",
    "// 2022-08-11: Twiddled the frobnicator's parameters\n",
    "// 2022-08-12: Further tweaks to the frobnicator settings\n",
    "// 2022-08-13: Added flux compensation to the frobnicator\n",
    "// 2022-08-14: Improved flux compensation\n",
    "// 2022-09-03: Revisited flux compensation after discussion with Joe\n",
    "//\n",
    "class Frobnicator:\n",
    "    pass\n",
    "```"
   ]
  },
  {
   "cell_type": "markdown",
   "id": "04ef63a15665b95e",
   "metadata": {
    "lang": "de",
    "slideshow": {
     "slide_type": "subslide"
    },
    "tags": [
     "subslide"
    ]
   },
   "source": [
    "\n",
    "- Inhaltsfreie Kommentare (Noise comments)"
   ]
  },
  {
   "cell_type": "code",
   "execution_count": null,
   "id": "7921d2f6e078d23a",
   "metadata": {
    "tags": [
     "keep"
    ]
   },
   "outputs": [],
   "source": [
    "class FluxCompensator {\n",
    "    // The constructor of the flux compensator class.\n",
    "    FluxCompensator() {\n",
    "        // ...\n",
    "    }\n",
    "}"
   ]
  },
  {
   "cell_type": "code",
   "execution_count": null,
   "id": "1b96c51771c3d894",
   "metadata": {
    "lines_to_next_cell": 2,
    "tags": [
     "keep"
    ]
   },
   "outputs": [],
   "source": [
    "// Hourly wage in US$\n",
    "final int HOURLY_WAGE_IN_USD = 80;"
   ]
  },
  {
   "cell_type": "markdown",
   "id": "16e87578bb2fd5a5",
   "metadata": {
    "lang": "de",
    "slideshow": {
     "slide_type": "subslide"
    },
    "tags": [
     "subslide"
    ]
   },
   "source": [
    "\n",
    "- Positions-Markierungen"
   ]
  },
  {
   "cell_type": "code",
   "execution_count": null,
   "id": "f086c109615d102f",
   "metadata": {
    "tags": [
     "keep"
    ]
   },
   "outputs": [],
   "source": [
    "class MyVeryLargeClass {\n",
    "    ////////////////////////////////////////\n",
    "    // Initialization Methods\n",
    "    ////////////////////////////////////////\n",
    "    void init() {\n",
    "        // ...\n",
    "    }\n",
    "\n",
    "    void initInAnotherWay() {\n",
    "        // ...\n",
    "    }\n",
    "\n",
    "    ////////////////////////////////////////\n",
    "    // Computations\n",
    "    ////////////////////////////////////////\n",
    "    void computeThis() {\n",
    "        // ...\n",
    "    }\n",
    "\n",
    "    void computeThat() {\n",
    "        // ...\n",
    "    }\n",
    "\n",
    "    ////////////////////////////////////////\n",
    "    // State Updates\n",
    "    ////////////////////////////////////////\n",
    "    void setSomeState(int x) {\n",
    "        // ...\n",
    "    }\n",
    "}"
   ]
  },
  {
   "cell_type": "markdown",
   "id": "fdb3c78dae354225",
   "metadata": {
    "lang": "de",
    "slideshow": {
     "slide_type": "subslide"
    },
    "tags": [
     "subslide"
    ]
   },
   "source": [
    "\n",
    "- Zuschreibungen und Namensnennungen"
   ]
  },
  {
   "cell_type": "code",
   "execution_count": null,
   "id": "8a76b75636fbde06",
   "metadata": {
    "tags": [
     "keep"
    ]
   },
   "outputs": [],
   "source": [
    "// Added by Jack <jack@example.org> on 2018-03-12\n",
    "int someFunction(int x, int y) {\n",
    "    return x + y;\n",
    "}"
   ]
  },
  {
   "cell_type": "markdown",
   "id": "413798fe48b79ac8",
   "metadata": {
    "lang": "de",
    "slideshow": {
     "slide_type": "subslide"
    },
    "tags": [
     "subslide"
    ]
   },
   "source": [
    "\n",
    "- Auskommentierter Code\n",
    "  - Neigt dazu, nie gelöscht zu werden\n",
    "  - Unklar, warum er da ist: sollte er gelöscht oder wieder einkommentiert\n",
    "    werden?\n",
    "  - Sollte lieber gelöscht und bei Bedarf aus dem Versionskontrollsystem\n",
    "    wiederhergestellt werden"
   ]
  },
  {
   "cell_type": "code",
   "execution_count": null,
   "id": "8d75f0a43f4d8c63",
   "metadata": {
    "tags": [
     "keep"
    ]
   },
   "outputs": [],
   "source": [
    "// int someFunction(int x, int y) {\n",
    "//     return x + y;\n",
    "// }"
   ]
  },
  {
   "cell_type": "code",
   "execution_count": null,
   "id": "e2cc672c1b99f1a9",
   "metadata": {
    "tags": [
     "keep"
    ]
   },
   "outputs": [],
   "source": [
    "int someOtherFunction(int x, int y) {\n",
    "    // int z = x + y;\n",
    "    // return z;\n",
    "    return 123;\n",
    "}"
   ]
  },
  {
   "cell_type": "markdown",
   "id": "8a305fc019a862ca",
   "metadata": {
    "lang": "de",
    "slideshow": {
     "slide_type": "subslide"
    },
    "tags": [
     "subslide"
    ]
   },
   "source": [
    "\n",
    "- HTML-Kommentare\n",
    "\n",
    "- Im Clean-Code Buch wird von HTML-Kommentaren abgeraten, da sie nicht gut\n",
    "  lesbar sind\n",
    "- In Java werden aber üblicherweise Dokumentations-Kommentare in HTML-Form\n",
    "  geschrieben"
   ]
  },
  {
   "cell_type": "markdown",
   "id": "7b2788077044ae6e",
   "metadata": {
    "lang": "de",
    "slideshow": {
     "slide_type": "subslide"
    },
    "tags": [
     "subslide"
    ]
   },
   "source": [
    "\n",
    "- Nichtlokale Information"
   ]
  },
  {
   "cell_type": "code",
   "execution_count": null,
   "id": "2e1e5c3f4dceed82",
   "metadata": {
    "tags": [
     "keep"
    ]
   },
   "outputs": [],
   "source": [
    "// This is set to its correct value by `frobFoo()` in file `frobnicator.java`.\n",
    "class Constants {\n",
    "    static int foo = -1;\n",
    "}"
   ]
  },
  {
   "cell_type": "markdown",
   "id": "a6bca532a310eb4c",
   "metadata": {
    "lang": "de",
    "slideshow": {
     "slide_type": "subslide"
    },
    "tags": [
     "subslide"
    ]
   },
   "source": [
    "\n",
    "- Zu viel Information"
   ]
  },
  {
   "cell_type": "markdown",
   "id": "e90419dad02ee4fc",
   "metadata": {
    "lang": "de",
    "slideshow": {
     "slide_type": "subslide"
    },
    "tags": [
     "subslide"
    ]
   },
   "source": [
    "\n",
    "- Unklarer Bezug zum Code"
   ]
  },
  {
   "cell_type": "code",
   "execution_count": null,
   "id": "e8c37c397a2b89d1",
   "metadata": {
    "tags": [
     "keep"
    ]
   },
   "outputs": [],
   "source": [
    "// Adjust for target endianness and buffer size\n",
    "int foo = Math.max((foo + 7) * 2, 256);"
   ]
  }
 ],
 "metadata": {
  "jupytext": {
   "cell_metadata_filter": "tags,lang,-all",
   "encoding": "// -*- coding: utf-8 -*-",
   "main_language": "java",
   "notebook_metadata_filter": "-all"
  },
  "kernelspec": {
   "display_name": "Java",
   "language": "java",
   "name": "java"
  },
  "language_info": {
   "codemirror_mode": "java",
   "file_extension": ".java",
   "mimetype": "text/java",
   "name": "Java",
   "pygments_lexer": "java",
   "version": ""
  }
 },
 "nbformat": 4,
 "nbformat_minor": 5
}
