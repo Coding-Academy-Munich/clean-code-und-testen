{
 "cells": [
  {
   "cell_type": "markdown",
   "id": "84b9858f202481dc",
   "metadata": {
    "lang": "de",
    "slideshow": {
     "slide_type": "slide"
    },
    "tags": [
     "slide"
    ]
   },
   "source": [
    "\n",
    "<img src=\"data:image/svg+xml;base64,PHN2ZyB4bWxucz0iaHR0cDovL3d3dy53My5vcmcvMjAwMC9zdmciIHdpZHRoPSI2NCIgaGVpZ2h0\n",
    "PSI2NCIgdmlld0JveD0iMCAwIDMyIDMyIj48cGF0aCBkPSJNMTEuNjIyIDI0Ljc0cy0xLjIzLjc0\n",
    "OC44NTUuOTYyYzIuNTEuMzIgMy44NDcuMjY3IDYuNjI1LS4yNjdhMTAuMDIgMTAuMDIgMCAwIDAg\n",
    "MS43NjMuODU1Yy02LjI1IDIuNjcyLTE0LjE2LS4xNi05LjI0NC0xLjU1em0tLjgtMy40NzNzLTEu\n",
    "MzM2IDEuMDE1Ljc0OCAxLjIzYzIuNzI1LjI2NyA0Ljg2Mi4zMiA4LjU1LS40MjdhMy4yNiAzLjI2\n",
    "IDAgMCAwIDEuMjgyLjgwMWMtNy41MzQgMi4yNDQtMTUuOTc2LjIxNC0xMC41OC0xLjYwM3ptMTQu\n",
    "NzQ3IDYuMDlzLjkwOC43NDgtMS4wMTUgMS4zMzZjLTMuNTggMS4wNy0xNS4wMTQgMS4zOS0xOC4y\n",
    "MiAwLTEuMTIyLS40OCAxLjAxNS0xLjE3NSAxLjctMS4yODIuNjk1LS4xNiAxLjA3LS4xNiAxLjA3\n",
    "LS4xNi0xLjIzLS44NTUtOC4xNzUgMS43NjMtMy41MjYgMi41MSAxMi43NyAyLjA4NCAyMy4yOTYt\n",
    "LjkwOCAxOS45ODMtMi40MDR6TTEyLjIgMTcuNjMzcy01LjgyNCAxLjM5LTIuMDg0IDEuODdjMS42\n",
    "MDMuMjE0IDQuNzU1LjE2IDcuNjk0LS4wNTMgMi40MDQtLjIxNCA0LjgxLS42NCA0LjgxLS42NHMt\n",
    "Ljg1NS4zNzQtMS40NDMuNzQ4Yy01LjkzIDEuNTUtMTcuMzEyLjg1NS0xNC4wNTItLjc0OCAyLjc3\n",
    "OC0xLjMzNiA1LjA3Ni0xLjE3NSA1LjA3Ni0xLjE3NXptMTAuNDIgNS44MjRjNS45ODQtMy4xIDMu\n",
    "MjA2LTYuMDkgMS4yODItNS43MTctLjQ4LjEwNy0uNjk1LjIxNC0uNjk1LjIxNHMuMTYtLjMyLjUz\n",
    "NC0uNDI3YzMuNzk0LTEuMzM2IDYuNzg2IDQuMDA3LTEuMjMgNi4wOSAwIDAgLjA1My0uMDUzLjEw\n",
    "Ny0uMTZ6bS05LjgzIDguNDQyYzUuNzcuMzc0IDE0LjU4Ny0uMjE0IDE0LjgtMi45NCAwIDAtLjQy\n",
    "NyAxLjA3LTQuNzU1IDEuODctNC45MTYuOTA4LTExLjAwNy44LTE0LjU4Ny4yMTQgMCAwIC43NDgu\n",
    "NjQgNC41NDIuODU1eiIgZmlsbD0iIzRlNzg5NiIvPjxwYXRoIGQ9Ik0xOC45OTYuMDAxczMuMzEz\n",
    "IDMuMzY2LTMuMTUyIDguNDQyYy01LjE4MyA0LjExNC0xLjE3NSA2LjQ2NSAwIDkuMTM3LTMuMDQ2\n",
    "LTIuNzI1LTUuMjM2LTUuMTMtMy43NC03LjM3M0MxNC4yOTQgNi44OTMgMjAuMzMyIDUuMyAxOC45\n",
    "OTYuMDAxem0tMS43IDE1LjMzNWMxLjU1IDEuNzYzLS40MjcgMy4zNjYtLjQyNyAzLjM2NnMzLjk1\n",
    "NC0yLjAzIDIuMTM3LTQuNTQyYy0xLjY1Ni0yLjQwNC0yLjk0LTMuNTggNC4wMDctNy41ODcgMCAw\n",
    "LTEwLjk1MyAyLjcyNS01LjcxNyA4Ljc2M3oiIGZpbGw9IiNmNTgyMTkiLz48L3N2Zz4=\n",
    "\"\n",
    "     alt=\"Java Logo\" style=\"display:block;margin:auto;width:5%\"/>\n",
    "<br>\n",
    "\n",
    "<div style=\"text-align:center; font-size:200%;\">\n",
    " <b>Clean Code: Funktionen (Teil 3)</b>\n",
    "</div>\n",
    "<br/>\n",
    "<div style=\"text-align:center; font-size:120%;\">Dr. Matthias Hölzl</div>\n",
    "<br/>\n",
    "<div style=\"text-align:center;\">Coding-Akademie München</div>\n",
    "<br/>"
   ]
  },
  {
   "cell_type": "markdown",
   "id": "3802801a48e2c7b8",
   "metadata": {
    "lang": "de",
    "slideshow": {
     "slide_type": "subslide"
    },
    "tags": [
     "subslide"
    ]
   },
   "source": [
    "\n",
    "## Weitere Regeln für Funktionen\n",
    "\n",
    "- Verwende beschreibende Namen\n",
    "- Vermeide versteckte Seiteneffekte"
   ]
  },
  {
   "cell_type": "markdown",
   "id": "b8c08d0d426e3dcb",
   "metadata": {
    "lang": "de",
    "slideshow": {
     "slide_type": "subslide"
    },
    "tags": [
     "subslide"
    ]
   },
   "source": [
    "\n",
    "## Versteckte Seiteneffekte"
   ]
  },
  {
   "cell_type": "code",
   "execution_count": null,
   "id": "d5c613f9d2bc8d78",
   "metadata": {
    "tags": [
     "keep"
    ]
   },
   "outputs": [],
   "source": [
    "public class User {\n",
    "    public boolean isValidPassword(String password) {\n",
    "        // Implementation here\n",
    "        return true;\n",
    "    }\n",
    "\n",
    "    public boolean hasSession() {\n",
    "        // Implementation here\n",
    "        return false;\n",
    "    }\n",
    "\n",
    "    public void initializeNewSession() {\n",
    "        // Implementation here\n",
    "    }\n",
    "}\n",
    "\n",
    "public class UserManager {\n",
    "    public User findUserByName(String userName) {\n",
    "        // Implementation here\n",
    "        return new User();\n",
    "    }\n",
    "}\n",
    "\n",
    "public class PasswordChecker {\n",
    "    private UserManager userManager = new UserManager();\n",
    "\n",
    "    public boolean checkPassword(String userName, String password) {\n",
    "        User user = userManager.findUserByName(userName);\n",
    "        if (user != null) {\n",
    "            if (user.isValidPassword(password)) {\n",
    "                if (user.hasSession()) {\n",
    "                    user.initializeNewSession();\n",
    "                }\n",
    "                return true;\n",
    "            }\n",
    "        }\n",
    "        return false;\n",
    "    }\n",
    "}"
   ]
  },
  {
   "cell_type": "markdown",
   "id": "02b225205df736a7",
   "metadata": {
    "lang": "de",
    "slideshow": {
     "slide_type": "subslide"
    },
    "tags": [
     "subslide"
    ]
   },
   "source": [
    "\n",
    "## Command-Query Separation"
   ]
  },
  {
   "cell_type": "code",
   "execution_count": null,
   "id": "5a9b1a61e80fb1d9",
   "metadata": {
    "tags": [
     "keep"
    ]
   },
   "outputs": [],
   "source": [
    "public class DefaultValueManager {\n",
    "    private static int defaultValue = -1;\n",
    "\n",
    "    public static boolean badHasDefaultValue() {\n",
    "        if (defaultValue >= 0) {\n",
    "            return true;\n",
    "        } else {\n",
    "            defaultValue = 123;\n",
    "            return false;\n",
    "        }\n",
    "    }\n",
    "\n",
    "    public static void main(String[] args) {\n",
    "        System.out.println(defaultValue);\n",
    "        System.out.println(badHasDefaultValue());\n",
    "        System.out.println(defaultValue);\n",
    "    }\n",
    "}"
   ]
  },
  {
   "cell_type": "code",
   "execution_count": null,
   "id": "d5648588de2db382",
   "metadata": {
    "slideshow": {
     "slide_type": "subslide"
    },
    "tags": [
     "subslide"
    ]
   },
   "outputs": [],
   "source": []
  },
  {
   "cell_type": "markdown",
   "id": "cff791dc4c88654b",
   "metadata": {
    "lang": "de",
    "slideshow": {
     "slide_type": "subslide"
    },
    "tags": [
     "subslide"
    ]
   },
   "source": [
    "\n",
    "## Vermeide \"Ausgabeargumente\"\n",
    "\n",
    "Java hat keine \"echten\" Ausgabeargumente. Aber Modifikation von Objekten hat\n",
    "oft ähnliche Konsequenzen:"
   ]
  },
  {
   "cell_type": "code",
   "execution_count": null,
   "id": "927f61b2f8f81bb6",
   "metadata": {
    "tags": [
     "keep"
    ]
   },
   "outputs": [],
   "source": [
    "import java.util.List;\n",
    "\n",
    "public class HitResult {\n",
    "    public boolean collisionOccurred;\n",
    "\n",
    "    public HitResult() {\n",
    "        this.collisionOccurred = false;\n",
    "    }\n",
    "}\n",
    "\n",
    "public class Obstacle {\n",
    "    // Obstacle's definition\n",
    "}\n",
    "\n",
    "public class PlayerV1 {\n",
    "    public void checkCollision(List<Obstacle> obstacles, HitResult hitResult) {\n",
    "        // Complicated computation...\n",
    "        hitResult.collisionOccurred = true;\n",
    "    }\n",
    "}"
   ]
  },
  {
   "cell_type": "code",
   "execution_count": null,
   "id": "f8d71a9ee6a3661d",
   "metadata": {
    "tags": [
     "keep"
    ]
   },
   "outputs": [],
   "source": [
    "import java.util.List;\n",
    "\n",
    "public class PlayerV1Demo {\n",
    "    public static void main(String[] args) {\n",
    "        PlayerV1 player = new PlayerV1();\n",
    "        HitResult hitResult = new HitResult();\n",
    "        List<Obstacle> obstacles = List.of(); // empty list for example\n",
    "\n",
    "        player.checkCollision(obstacles, hitResult);\n",
    "        if (hitResult.collisionOccurred) {\n",
    "            System.out.println(\"Detected collision!\");\n",
    "        }\n",
    "    }\n",
    "}"
   ]
  },
  {
   "cell_type": "code",
   "execution_count": null,
   "id": "58b697d338d483c0",
   "metadata": {
    "slideshow": {
     "slide_type": "subslide"
    },
    "tags": [
     "subslide"
    ]
   },
   "outputs": [],
   "source": []
  },
  {
   "cell_type": "code",
   "execution_count": null,
   "id": "beeec849fd5825b0",
   "metadata": {},
   "outputs": [],
   "source": []
  },
  {
   "cell_type": "markdown",
   "id": "a787e3fcfb782668",
   "metadata": {
    "lang": "de",
    "slideshow": {
     "slide_type": "subslide"
    },
    "tags": [
     "subslide"
    ]
   },
   "source": [
    "\n",
    "## Fehlerbehandlung\n",
    "\n",
    "Verwende Ausnahmen zur Fehlerbehandlung (siehe später)."
   ]
  },
  {
   "cell_type": "markdown",
   "id": "dee960a8a01d8222",
   "metadata": {
    "lang": "de",
    "slideshow": {
     "slide_type": "subslide"
    },
    "tags": [
     "subslide"
    ]
   },
   "source": [
    "\n",
    "## DRY: Don't Repeat Yourself\n",
    "\n",
    "- Versuche, duplizierten Code zu eliminieren.\n",
    "  - Wiederholung bläht den Code auf\n",
    "  - Wiederholung von Code erfordert mehrere Modifikationen für jede Änderung\n",
    "- Aber: oft ist duplizierter Code mit anderem Code durchsetzt\n",
    "- Berücksichtige den Bereich, in dem der Code DRY ist!"
   ]
  },
  {
   "cell_type": "code",
   "execution_count": null,
   "id": "b677466871089c52",
   "metadata": {
    "slideshow": {
     "slide_type": "subslide"
    },
    "tags": [
     "subslide",
     "keep"
    ]
   },
   "outputs": [],
   "source": [
    "import java.util.Arrays;\n",
    "import java.util.List;\n",
    "\n",
    "public class StringSanitizer {\n",
    "    public static String sanitizeUserNameV1(String userName) {\n",
    "        List<String> forbiddenCharacters = Arrays.asList(\"&\", \"<\", \">\");\n",
    "        List<String> replacementCharacters = Arrays.asList(\"&amp;\", \"&lt;\", \"&gt;\");\n",
    "        String sanitizedUserName = userName;\n",
    "\n",
    "        for (int i = 0; i < forbiddenCharacters.size(); i++) {\n",
    "            sanitizedUserName = sanitizedUserName.replace(forbiddenCharacters.get(i), replacementCharacters.get(i));\n",
    "        }\n",
    "\n",
    "        return sanitizedUserName;\n",
    "    }\n",
    "\n",
    "    public static void main(String[] args) {\n",
    "        String sanitized = sanitizeUserNameV1(\"Hans & Franz <hf@example.com>\");\n",
    "        System.out.println(sanitized);\n",
    "    }\n",
    "}"
   ]
  },
  {
   "cell_type": "code",
   "execution_count": null,
   "id": "25571f282f257d64",
   "metadata": {
    "slideshow": {
     "slide_type": "subslide"
    },
    "tags": [
     "subslide",
     "keep"
    ]
   },
   "outputs": [],
   "source": [
    "public class AddressSanitizer {\n",
    "    public static String sanitizeAddressV1(String address) {\n",
    "        List<String> forbiddenCharacters = Arrays.asList(\"&\", \"<\", \">\");\n",
    "        List<String> replacementCharacters = Arrays.asList(\"&amp;\", \"&lt;\", \"&gt;\");\n",
    "        for (int i = 0; i < forbiddenCharacters.size(); i++) {\n",
    "            address = address.replace(forbiddenCharacters.get(i), replacementCharacters.get(i));\n",
    "        }\n",
    "        return address;\n",
    "    }\n",
    "\n",
    "    public static void main(String[] args) {\n",
    "        System.out.println(sanitizeAddressV1(\"Hans & Franz <hf@example.com>\"));\n",
    "    }\n",
    "}"
   ]
  },
  {
   "cell_type": "code",
   "execution_count": null,
   "id": "dad48101a4360da1",
   "metadata": {
    "slideshow": {
     "slide_type": "subslide"
    },
    "tags": [
     "subslide",
     "keep"
    ]
   },
   "outputs": [],
   "source": [
    "public class StringSanitizer {\n",
    "    public static String sanitizeString(String str) {\n",
    "        String[] forbiddenCharacters = {\"&\", \"<\", \">\"};\n",
    "        String[] replacementCharacters = {\"&amp;\", \"&lt;\", \"&gt;\"};\n",
    "        for (int i = 0; i < forbiddenCharacters.length; i++) {\n",
    "            str = str.replace(forbiddenCharacters[i], replacementCharacters[i]);\n",
    "        }\n",
    "        return str;\n",
    "    }\n",
    "}"
   ]
  },
  {
   "cell_type": "code",
   "execution_count": null,
   "id": "22ac71ae5fa1661a",
   "metadata": {
    "slideshow": {
     "slide_type": "subslide"
    },
    "tags": [
     "subslide"
    ]
   },
   "outputs": [],
   "source": []
  },
  {
   "cell_type": "code",
   "execution_count": null,
   "id": "45423f66904682a6",
   "metadata": {},
   "outputs": [],
   "source": []
  },
  {
   "cell_type": "markdown",
   "id": "22d55bd420996dd3",
   "metadata": {
    "lang": "de",
    "slideshow": {
     "slide_type": "subslide"
    },
    "tags": [
     "subslide"
    ]
   },
   "source": [
    "\n",
    "## Problematische Regeln aus dem Buch\n",
    "\n",
    "- Verwende wenige (oder keine) Argumente\n",
    "- Verwende keine booleschen Argumente (Flag-Argumente)"
   ]
  },
  {
   "cell_type": "markdown",
   "id": "dbe5d3de4d93e6b6",
   "metadata": {
    "lang": "de",
    "slideshow": {
     "slide_type": "subslide"
    },
    "tags": [
     "subslide"
    ]
   },
   "source": [
    "\n",
    "- Boolesche Argumente sind oft ein Hinweis auf eine fehlende Abstraktion\n",
    "- Wenn es zwei mögliche Werte gibt, gibt es oft auch mehr\n",
    "\n",
    "### Beispiel\n",
    "\n",
    "Wähle ein Fahrzeug abhängig davon, ob es fliegen kann oder nicht."
   ]
  },
  {
   "cell_type": "code",
   "execution_count": null,
   "id": "4fbd760e2b8c7b7b",
   "metadata": {
    "slideshow": {
     "slide_type": "subslide"
    },
    "tags": [
     "keep",
     "subslide"
    ]
   },
   "outputs": [],
   "source": [
    "public class VehicleChooser {\n",
    "    public static String chooseVehicleV1(boolean canFly) {\n",
    "        if (canFly) {\n",
    "            return \"plane\";\n",
    "        } else {\n",
    "            return \"car\";\n",
    "        }\n",
    "    }\n",
    "\n",
    "    public static void main(String[] args) {\n",
    "        System.out.println(chooseVehicleV1(true));\n",
    "    }\n",
    "}"
   ]
  },
  {
   "cell_type": "markdown",
   "id": "7ecae48f4834fdd1",
   "metadata": {
    "lang": "de",
    "slideshow": {
     "slide_type": "subslide"
    },
    "tags": [
     "subslide"
    ]
   },
   "source": [
    "\n",
    "In einer neuen Iteration wollen wir auch Fahrzeuge, die schwimmen können:"
   ]
  },
  {
   "cell_type": "code",
   "execution_count": null,
   "id": "0102e64cadfb25de",
   "metadata": {
    "slideshow": {
     "slide_type": "subslide"
    },
    "tags": [
     "keep",
     "subslide"
    ]
   },
   "outputs": [],
   "source": [
    "public class VehicleChooser {\n",
    "    public static String chooseVehicleV2(boolean canFly, boolean canSwim) {\n",
    "        if (canSwim) {\n",
    "            return \"boat\";\n",
    "        } else if (canFly) {\n",
    "            return \"plane\";\n",
    "        } else {\n",
    "            return \"car\";\n",
    "        }\n",
    "    }\n",
    "\n",
    "    public static void main(String[] args) {\n",
    "        System.out.println(chooseVehicleV2(true, true));\n",
    "    }\n",
    "}"
   ]
  },
  {
   "cell_type": "markdown",
   "id": "ed1d9713c550e8c4",
   "metadata": {
    "lang": "de",
    "slideshow": {
     "slide_type": "subslide"
    },
    "tags": [
     "subslide"
    ]
   },
   "source": [
    "\n",
    "### Probleme\n",
    "\n",
    "- Jedes Fahrzeug, das schwimmen kann ist in dieser Version ein Schiff\n",
    "  - Das ist aber nicht korrekt, wenn `can_fly` auch wahr ist\n",
    "  - In diesem Fall sollte entweder `seaplane` zurückgegeben, oder ein Fehler gemeldet\n",
    "    werden\n",
    "- Der Fall, dass ein Fahrzeug fahren kann, ist ein impliziter Default, wenn alle\n",
    "  Argumente falsch sind"
   ]
  },
  {
   "cell_type": "code",
   "execution_count": null,
   "id": "81a50bab560fb922",
   "metadata": {
    "tags": [
     "keep"
    ]
   },
   "outputs": [],
   "source": [
    "public class VehicleChooser {\n",
    "    public static String chooseVehicleV3(boolean canFly, boolean canSwim) {\n",
    "        if (canFly) {\n",
    "            if (canSwim) {\n",
    "                throw new IllegalArgumentException(\"No seaplanes available\");\n",
    "            } else {\n",
    "                return \"plane\";\n",
    "            }\n",
    "        } else if (canSwim) {\n",
    "            return \"boat\";\n",
    "        } else {\n",
    "            return \"car\";\n",
    "        }\n",
    "    }\n",
    "\n",
    "    public static void main(String[] args) {\n",
    "        try {\n",
    "            System.out.println(chooseVehicleV3(true, true));\n",
    "        } catch (IllegalArgumentException e) {\n",
    "            System.out.println(e.getMessage());\n",
    "        }\n",
    "    }\n",
    "}"
   ]
  },
  {
   "cell_type": "markdown",
   "id": "c63950eb522e0f70",
   "metadata": {
    "lang": "de",
    "slideshow": {
     "slide_type": "subslide"
    },
    "tags": [
     "subslide"
    ]
   },
   "source": [
    "\n",
    "- Diese Version löst das Problem mit Wasserflugzeugen, aber nicht den impliziten\n",
    "  Default\n",
    "- Was passiert, wenn wir `can_drive` hinzufügen?"
   ]
  },
  {
   "cell_type": "code",
   "execution_count": null,
   "id": "351e037f1831142b",
   "metadata": {
    "slideshow": {
     "slide_type": "subslide"
    },
    "tags": [
     "keep",
     "subslide"
    ]
   },
   "outputs": [],
   "source": [
    "public class VehicleChooser {\n",
    "    public static String chooseVehicleV4(boolean canFly, boolean canSwim, boolean canDrive) {\n",
    "        if (canFly) {\n",
    "            return \"plane\";\n",
    "        } else if (canSwim) {\n",
    "            return \"boat\";\n",
    "        } else if (canDrive) {\n",
    "            return \"car\";\n",
    "        } else {\n",
    "            throw new IllegalArgumentException(\"No such vehicle available\");\n",
    "        }\n",
    "    }\n",
    "\n",
    "    public static void main(String[] args) {\n",
    "        try {\n",
    "            System.out.println(chooseVehicleV4(true, false, false));\n",
    "        } catch (IllegalArgumentException e) {\n",
    "            System.out.println(e.getMessage());\n",
    "        }\n",
    "    }\n",
    "}"
   ]
  },
  {
   "cell_type": "markdown",
   "id": "9e5f68041e6bf535",
   "metadata": {
    "lang": "de",
    "slideshow": {
     "slide_type": "subslide"
    },
    "tags": [
     "subslide"
    ]
   },
   "source": [
    "\n",
    "- Jetzt haben wir 8 mögliche Kombinationen von Argumenten, von denen nur 3\n",
    "  gültig sind\n",
    "- Aufrufe mit unbenannten Argumenten sind schwer zu lesen\n",
    "- Es ist oft besser, das z.B. mit einer Enumeration zu modellieren"
   ]
  },
  {
   "cell_type": "code",
   "execution_count": null,
   "id": "b85a7a88475b3506",
   "metadata": {
    "tags": [
     "keep"
    ]
   },
   "outputs": [],
   "source": [
    "public class VehicleChooser {\n",
    "    public static String chooseVehicleV4(boolean canFly, boolean canSwim, boolean canDrive) {\n",
    "        // Implementation here\n",
    "        return \"\";\n",
    "    }\n",
    "\n",
    "    public static void main(String[] args) {\n",
    "        System.out.println(chooseVehicleV4(true, false, false)); // ???\n",
    "    }\n",
    "}"
   ]
  },
  {
   "cell_type": "code",
   "execution_count": null,
   "id": "920351a742d2ec04",
   "metadata": {
    "slideshow": {
     "slide_type": "subslide"
    },
    "tags": [
     "keep",
     "subslide"
    ]
   },
   "outputs": [],
   "source": [
    "public enum LocomotionType {\n",
    "    FLYING,\n",
    "    SWIMMING,\n",
    "    DRIVING\n",
    "}"
   ]
  },
  {
   "cell_type": "code",
   "execution_count": null,
   "id": "097ba448b6a4525f",
   "metadata": {
    "slideshow": {
     "slide_type": "subslide"
    },
    "tags": [
     "subslide"
    ]
   },
   "outputs": [],
   "source": []
  },
  {
   "cell_type": "code",
   "execution_count": null,
   "id": "a60d23f1673c680d",
   "metadata": {
    "slideshow": {
     "slide_type": "subslide"
    },
    "tags": [
     "subslide"
    ]
   },
   "outputs": [],
   "source": []
  },
  {
   "cell_type": "code",
   "execution_count": null,
   "id": "fcf25a42512bc0dc",
   "metadata": {},
   "outputs": [],
   "source": []
  },
  {
   "cell_type": "code",
   "execution_count": null,
   "id": "6b4e03423667dbb7",
   "metadata": {},
   "outputs": [],
   "source": []
  }
 ],
 "metadata": {
  "jupytext": {
   "cell_metadata_filter": "tags,lang,-all",
   "encoding": "// -*- coding: utf-8 -*-",
   "main_language": "java",
   "notebook_metadata_filter": "-all"
  },
  "kernelspec": {
   "display_name": "Java",
   "language": "java",
   "name": "java"
  },
  "language_info": {
   "codemirror_mode": "java",
   "file_extension": ".java",
   "mimetype": "text/java",
   "name": "Java",
   "pygments_lexer": "java",
   "version": ""
  }
 },
 "nbformat": 4,
 "nbformat_minor": 5
}
